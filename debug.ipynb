{
 "cells": [
  {
   "cell_type": "code",
   "execution_count": 9,
   "id": "e0c56d5b",
   "metadata": {},
   "outputs": [],
   "source": [
    "# Version without multiprocessing for easier debugging\n",
    "import os\n",
    "import numpy as np\n",
    "import pandas as pd\n",
    "import logging\n",
    "from tqdm import tqdm\n",
    "from lib import funcs\n",
    "from lib.dataHandler import DataHandler"
   ]
  },
  {
   "cell_type": "code",
   "execution_count": 10,
   "id": "ad4c59a7",
   "metadata": {},
   "outputs": [],
   "source": [
    "# Constants\n",
    "from lib.funcs import update_coefs, normalize_with_d, normalize_with_self, init_random_array\n",
    "from lib.mmsbm import MMSBM\n",
    "\n",
    "train_set = \"train.csv\"\n",
    "test_set = \"test.csv\"\n",
    "# Number of groups of users\n",
    "k = 4\n",
    "# Number of groups of items\n",
    "l = 3\n",
    "# Iterations\n",
    "# To plateau the coefficients the minimum is 600\n",
    "iterations = 10\n",
    "seed = 1714\n",
    "notebook = True"
   ]
  },
  {
   "cell_type": "code",
   "execution_count": 20,
   "id": "f5cf876b",
   "metadata": {},
   "outputs": [
    {
     "name": "stderr",
     "output_type": "stream",
     "text": [
      "INFO:MMSBM:Running 1 runs of 10 iterations.\n"
     ]
    },
    {
     "data": {
      "text/plain": "[]"
     },
     "execution_count": 20,
     "metadata": {},
     "output_type": "execute_result"
    }
   ],
   "source": [
    "# Get data\n",
    "# Initiate the random state\n",
    "rng = np.random.default_rng(seed)\n",
    "# Create seeds for each process\n",
    "seeds = list(rng.integers(low=1, high=10000, size=1))\n",
    "\n",
    "logger = logging.getLogger(\"MMSBM\")\n",
    "logging.basicConfig(level=logging.DEBUG if notebook else logging.INFO)\n",
    "logger.info(f\"Running {1} runs of {iterations} iterations.\")\n",
    "\n",
    "# Get data\n",
    "data_dir = os.path.join(os.getcwd(), \"data\")\n",
    "data_handler = DataHandler(data_dir, train_set, test_set)\n",
    "train, test = data_handler.import_data()\n",
    "\n",
    "# Create a few dicts with the relationships\n",
    "d0 = {}\n",
    "d1 = {}\n",
    "[d0.update({a: list(train[train[:, 0] == a, 1])}) for a in set(train[:, 0])]\n",
    "[d1.update({a: list(train[train[:, 1] == a, 0])}) for a in set(train[:, 1])]\n",
    "ratings = sorted(set(train[:, 2]))\n",
    "r = len(ratings)\n",
    "user_values = set(train[:, 0])\n",
    "item_values = set(train[:, 1])\n",
    "p = len(user_values)\n",
    "m = len(item_values)\n",
    "\n",
    "# If, for some reason, there are missing links, we need to fill them:\n",
    "[d0.update({a: []}) for a in user_values.difference(set(d0.keys()))]\n",
    "[d1.update({a: []}) for a in item_values.difference(set(d1.keys()))]"
   ]
  },
  {
   "cell_type": "code",
   "execution_count": 21,
   "id": "ca511155",
   "metadata": {},
   "outputs": [
    {
     "name": "stderr",
     "output_type": "stream",
     "text": [
      "  0%|          | 0/10 [00:00<?, ?it/s]\n"
     ]
    },
    {
     "ename": "IndexError",
     "evalue": "only integers, slices (`:`), ellipsis (`...`), numpy.newaxis (`None`) and integer or boolean arrays are valid indices",
     "output_type": "error",
     "traceback": [
      "\u001B[1;31m---------------------------------------------------------------------------\u001B[0m",
      "\u001B[1;31mIndexError\u001B[0m                                Traceback (most recent call last)",
      "\u001B[1;32m<ipython-input-21-191be72e5b7b>\u001B[0m in \u001B[0;36m<module>\u001B[1;34m\u001B[0m\n\u001B[0;32m     16\u001B[0m \u001B[1;32mfor\u001B[0m \u001B[0mj\u001B[0m \u001B[1;32min\u001B[0m \u001B[0mtqdm\u001B[0m\u001B[1;33m(\u001B[0m\u001B[0mrange\u001B[0m\u001B[1;33m(\u001B[0m\u001B[0miterations\u001B[0m\u001B[1;33m)\u001B[0m\u001B[1;33m)\u001B[0m\u001B[1;33m:\u001B[0m\u001B[1;33m\u001B[0m\u001B[1;33m\u001B[0m\u001B[0m\n\u001B[0;32m     17\u001B[0m     \u001B[1;31m# This is the crux of the script; please see funcs.py\u001B[0m\u001B[1;33m\u001B[0m\u001B[1;33m\u001B[0m\u001B[1;33m\u001B[0m\u001B[0m\n\u001B[1;32m---> 18\u001B[1;33m     n_theta, n_eta, npr = update_coefs(\n\u001B[0m\u001B[0;32m     19\u001B[0m         \u001B[0mdata\u001B[0m\u001B[1;33m=\u001B[0m\u001B[0mtrain\u001B[0m\u001B[1;33m,\u001B[0m \u001B[0mratings\u001B[0m\u001B[1;33m=\u001B[0m\u001B[0mratings\u001B[0m\u001B[1;33m,\u001B[0m \u001B[0mtheta\u001B[0m\u001B[1;33m=\u001B[0m\u001B[0mtheta\u001B[0m\u001B[1;33m,\u001B[0m \u001B[0meta\u001B[0m\u001B[1;33m=\u001B[0m\u001B[0meta\u001B[0m\u001B[1;33m,\u001B[0m \u001B[0mpr\u001B[0m\u001B[1;33m=\u001B[0m\u001B[0mpr\u001B[0m\u001B[1;33m\u001B[0m\u001B[1;33m\u001B[0m\u001B[0m\n\u001B[0;32m     20\u001B[0m     )\n",
      "\u001B[1;32m~\\Desktop\\doctorat\\codi\\mmsbm\\lib\\funcs.py\u001B[0m in \u001B[0;36mupdate_coefs\u001B[1;34m(data, ratings, theta, eta, pr)\u001B[0m\n\u001B[0;32m     14\u001B[0m     \u001B[1;31m# Initialize the empty objects\u001B[0m\u001B[1;33m\u001B[0m\u001B[1;33m\u001B[0m\u001B[1;33m\u001B[0m\u001B[0m\n\u001B[0;32m     15\u001B[0m \u001B[1;33m\u001B[0m\u001B[0m\n\u001B[1;32m---> 16\u001B[1;33m     \u001B[0momegas\u001B[0m \u001B[1;33m=\u001B[0m \u001B[0mnp\u001B[0m\u001B[1;33m.\u001B[0m\u001B[0marray\u001B[0m\u001B[1;33m(\u001B[0m\u001B[1;33m[\u001B[0m\u001B[0mcompute_omega\u001B[0m\u001B[1;33m(\u001B[0m\u001B[0ma\u001B[0m\u001B[1;33m,\u001B[0m \u001B[0mtheta\u001B[0m\u001B[1;33m,\u001B[0m \u001B[0meta\u001B[0m\u001B[1;33m,\u001B[0m \u001B[0mpr\u001B[0m\u001B[1;33m,\u001B[0m \u001B[0mratings\u001B[0m\u001B[1;33m)\u001B[0m \u001B[1;32mfor\u001B[0m \u001B[0ma\u001B[0m \u001B[1;32min\u001B[0m \u001B[0mdata\u001B[0m\u001B[1;33m]\u001B[0m\u001B[1;33m)\u001B[0m\u001B[1;33m\u001B[0m\u001B[1;33m\u001B[0m\u001B[0m\n\u001B[0m\u001B[0;32m     17\u001B[0m     \u001B[0msum_omega\u001B[0m \u001B[1;33m=\u001B[0m \u001B[0momegas\u001B[0m\u001B[1;33m.\u001B[0m\u001B[0msum\u001B[0m\u001B[1;33m(\u001B[0m\u001B[0maxis\u001B[0m\u001B[1;33m=\u001B[0m\u001B[1;33m-\u001B[0m\u001B[1;36m1\u001B[0m\u001B[1;33m)\u001B[0m\u001B[1;33m.\u001B[0m\u001B[0msum\u001B[0m\u001B[1;33m(\u001B[0m\u001B[0maxis\u001B[0m\u001B[1;33m=\u001B[0m\u001B[1;33m-\u001B[0m\u001B[1;36m1\u001B[0m\u001B[1;33m)\u001B[0m\u001B[1;33m\u001B[0m\u001B[1;33m\u001B[0m\u001B[0m\n\u001B[0;32m     18\u001B[0m     \u001B[0mincrements\u001B[0m \u001B[1;33m=\u001B[0m \u001B[0mnp\u001B[0m\u001B[1;33m.\u001B[0m\u001B[0marray\u001B[0m\u001B[1;33m(\u001B[0m\u001B[1;33m[\u001B[0m\u001B[0ma\u001B[0m \u001B[1;33m/\u001B[0m \u001B[0mb\u001B[0m \u001B[1;32mfor\u001B[0m \u001B[1;33m(\u001B[0m\u001B[0ma\u001B[0m\u001B[1;33m,\u001B[0m \u001B[0mb\u001B[0m\u001B[1;33m)\u001B[0m \u001B[1;32min\u001B[0m \u001B[0mzip\u001B[0m\u001B[1;33m(\u001B[0m\u001B[0momegas\u001B[0m\u001B[1;33m,\u001B[0m \u001B[0msum_omega\u001B[0m\u001B[1;33m)\u001B[0m\u001B[1;33m]\u001B[0m\u001B[1;33m)\u001B[0m\u001B[1;33m\u001B[0m\u001B[1;33m\u001B[0m\u001B[0m\n",
      "\u001B[1;32m~\\Desktop\\doctorat\\codi\\mmsbm\\lib\\funcs.py\u001B[0m in \u001B[0;36m<listcomp>\u001B[1;34m(.0)\u001B[0m\n\u001B[0;32m     14\u001B[0m     \u001B[1;31m# Initialize the empty objects\u001B[0m\u001B[1;33m\u001B[0m\u001B[1;33m\u001B[0m\u001B[1;33m\u001B[0m\u001B[0m\n\u001B[0;32m     15\u001B[0m \u001B[1;33m\u001B[0m\u001B[0m\n\u001B[1;32m---> 16\u001B[1;33m     \u001B[0momegas\u001B[0m \u001B[1;33m=\u001B[0m \u001B[0mnp\u001B[0m\u001B[1;33m.\u001B[0m\u001B[0marray\u001B[0m\u001B[1;33m(\u001B[0m\u001B[1;33m[\u001B[0m\u001B[0mcompute_omega\u001B[0m\u001B[1;33m(\u001B[0m\u001B[0ma\u001B[0m\u001B[1;33m,\u001B[0m \u001B[0mtheta\u001B[0m\u001B[1;33m,\u001B[0m \u001B[0meta\u001B[0m\u001B[1;33m,\u001B[0m \u001B[0mpr\u001B[0m\u001B[1;33m,\u001B[0m \u001B[0mratings\u001B[0m\u001B[1;33m)\u001B[0m \u001B[1;32mfor\u001B[0m \u001B[0ma\u001B[0m \u001B[1;32min\u001B[0m \u001B[0mdata\u001B[0m\u001B[1;33m]\u001B[0m\u001B[1;33m)\u001B[0m\u001B[1;33m\u001B[0m\u001B[1;33m\u001B[0m\u001B[0m\n\u001B[0m\u001B[0;32m     17\u001B[0m     \u001B[0msum_omega\u001B[0m \u001B[1;33m=\u001B[0m \u001B[0momegas\u001B[0m\u001B[1;33m.\u001B[0m\u001B[0msum\u001B[0m\u001B[1;33m(\u001B[0m\u001B[0maxis\u001B[0m\u001B[1;33m=\u001B[0m\u001B[1;33m-\u001B[0m\u001B[1;36m1\u001B[0m\u001B[1;33m)\u001B[0m\u001B[1;33m.\u001B[0m\u001B[0msum\u001B[0m\u001B[1;33m(\u001B[0m\u001B[0maxis\u001B[0m\u001B[1;33m=\u001B[0m\u001B[1;33m-\u001B[0m\u001B[1;36m1\u001B[0m\u001B[1;33m)\u001B[0m\u001B[1;33m\u001B[0m\u001B[1;33m\u001B[0m\u001B[0m\n\u001B[0;32m     18\u001B[0m     \u001B[0mincrements\u001B[0m \u001B[1;33m=\u001B[0m \u001B[0mnp\u001B[0m\u001B[1;33m.\u001B[0m\u001B[0marray\u001B[0m\u001B[1;33m(\u001B[0m\u001B[1;33m[\u001B[0m\u001B[0ma\u001B[0m \u001B[1;33m/\u001B[0m \u001B[0mb\u001B[0m \u001B[1;32mfor\u001B[0m \u001B[1;33m(\u001B[0m\u001B[0ma\u001B[0m\u001B[1;33m,\u001B[0m \u001B[0mb\u001B[0m\u001B[1;33m)\u001B[0m \u001B[1;32min\u001B[0m \u001B[0mzip\u001B[0m\u001B[1;33m(\u001B[0m\u001B[0momegas\u001B[0m\u001B[1;33m,\u001B[0m \u001B[0msum_omega\u001B[0m\u001B[1;33m)\u001B[0m\u001B[1;33m]\u001B[0m\u001B[1;33m)\u001B[0m\u001B[1;33m\u001B[0m\u001B[1;33m\u001B[0m\u001B[0m\n",
      "\u001B[1;32m~\\Desktop\\doctorat\\codi\\mmsbm\\lib\\funcs.py\u001B[0m in \u001B[0;36mcompute_omega\u001B[1;34m(x, theta, eta, pr, ratings)\u001B[0m\n\u001B[0;32m      8\u001B[0m \u001B[1;33m\u001B[0m\u001B[0m\n\u001B[0;32m      9\u001B[0m \u001B[1;32mdef\u001B[0m \u001B[0mcompute_omega\u001B[0m\u001B[1;33m(\u001B[0m\u001B[0mx\u001B[0m\u001B[1;33m,\u001B[0m \u001B[0mtheta\u001B[0m\u001B[1;33m,\u001B[0m \u001B[0meta\u001B[0m\u001B[1;33m,\u001B[0m \u001B[0mpr\u001B[0m\u001B[1;33m,\u001B[0m \u001B[0mratings\u001B[0m\u001B[1;33m)\u001B[0m\u001B[1;33m:\u001B[0m\u001B[1;33m\u001B[0m\u001B[1;33m\u001B[0m\u001B[0m\n\u001B[1;32m---> 10\u001B[1;33m     \u001B[1;32mreturn\u001B[0m \u001B[0mtheta\u001B[0m\u001B[1;33m[\u001B[0m\u001B[0mx\u001B[0m\u001B[1;33m[\u001B[0m\u001B[1;36m0\u001B[0m\u001B[1;33m]\u001B[0m\u001B[1;33m]\u001B[0m\u001B[1;33m[\u001B[0m\u001B[1;33m:\u001B[0m\u001B[1;33m,\u001B[0m \u001B[0mnp\u001B[0m\u001B[1;33m.\u001B[0m\u001B[0mnewaxis\u001B[0m\u001B[1;33m]\u001B[0m \u001B[1;33m*\u001B[0m \u001B[1;33m(\u001B[0m\u001B[0meta\u001B[0m\u001B[1;33m[\u001B[0m\u001B[0mx\u001B[0m\u001B[1;33m[\u001B[0m\u001B[1;36m1\u001B[0m\u001B[1;33m]\u001B[0m\u001B[1;33m,\u001B[0m \u001B[1;33m:\u001B[0m\u001B[1;33m]\u001B[0m \u001B[1;33m*\u001B[0m \u001B[0mpr\u001B[0m\u001B[1;33m[\u001B[0m\u001B[1;33m:\u001B[0m\u001B[1;33m,\u001B[0m \u001B[1;33m:\u001B[0m\u001B[1;33m,\u001B[0m \u001B[0mratings\u001B[0m\u001B[1;33m[\u001B[0m\u001B[0mx\u001B[0m\u001B[1;33m[\u001B[0m\u001B[1;36m2\u001B[0m\u001B[1;33m]\u001B[0m\u001B[1;33m]\u001B[0m\u001B[1;33m]\u001B[0m\u001B[1;33m)\u001B[0m\u001B[1;33m\u001B[0m\u001B[1;33m\u001B[0m\u001B[0m\n\u001B[0m\u001B[0;32m     11\u001B[0m \u001B[1;33m\u001B[0m\u001B[0m\n\u001B[0;32m     12\u001B[0m \u001B[1;33m\u001B[0m\u001B[0m\n",
      "\u001B[1;31mIndexError\u001B[0m: only integers, slices (`:`), ellipsis (`...`), numpy.newaxis (`None`) and integer or boolean arrays are valid indices"
     ]
    }
   ],
   "source": [
    "rng = np.random.default_rng(seed)\n",
    "\n",
    "# Generate random (but normalized) inits\n",
    "theta = normalize_with_d(\n",
    "    init_random_array((p, k), rng), d0\n",
    ")\n",
    "eta = normalize_with_d(\n",
    "    init_random_array((m, l), rng), d1\n",
    ")\n",
    "pr = normalize_with_self(\n",
    "    init_random_array((k, l, r + 1), rng)\n",
    ")\n",
    "# Do the work\n",
    "# We store the prs to check convergence\n",
    "prs = []\n",
    "for j in tqdm(range(iterations)):\n",
    "    # This is the crux of the script; please see funcs.py\n",
    "    n_theta, n_eta, npr = update_coefs(\n",
    "        data=train, ratings=ratings, theta=theta, eta=eta, pr=pr\n",
    "    )\n",
    "\n",
    "    # Update with normalization\n",
    "    theta = normalize_with_d(n_theta, d0)\n",
    "    eta = normalize_with_d(n_eta, d1)\n",
    "    pr = normalize_with_self(npr)\n",
    "\n",
    "    # This can be removed when not debugging\n",
    "    prs.append(pr)"
   ]
  },
  {
   "cell_type": "code",
   "execution_count": 14,
   "id": "ec79da12",
   "metadata": {},
   "outputs": [],
   "source": [
    "likelihood = funcs.compute_likelihood(train, ratings, theta, eta, pr)\n",
    "rat = funcs.compute_prod_dist(test, theta, eta, pr)"
   ]
  },
  {
   "cell_type": "code",
   "execution_count": 15,
   "id": "e1b32510",
   "metadata": {},
   "outputs": [
    {
     "data": {
      "text/plain": [
       "array([0., 1., 1., ..., 1., 1., 8.])"
      ]
     },
     "execution_count": 15,
     "metadata": {},
     "output_type": "execute_result"
    }
   ],
   "source": [
    "theta.sum(axis=1)"
   ]
  },
  {
   "cell_type": "code",
   "execution_count": 16,
   "id": "baf7c3a5",
   "metadata": {},
   "outputs": [
    {
     "data": {
      "text/plain": [
       "array([0., 8., 8., ..., 8., 8., 8.])"
      ]
     },
     "execution_count": 16,
     "metadata": {},
     "output_type": "execute_result"
    }
   ],
   "source": [
    "n_theta.sum(axis=1)"
   ]
  },
  {
   "cell_type": "code",
   "execution_count": 110,
   "id": "e5aea53c",
   "metadata": {},
   "outputs": [],
   "source": [
    "aa = pd.read_csv(\"data/train.csv\", header=None)\n",
    "bb = pd.read_csv(\"data/test.csv\", header=None)"
   ]
  },
  {
   "cell_type": "code",
   "execution_count": 100,
   "id": "d4bd17c5",
   "metadata": {},
   "outputs": [],
   "source": [
    "def rename_values(x):\n",
    "    vals = set(x)\n",
    "    dict_ = {}\n",
    "    _ = [dict_.update({b: a}) for (a, b) in zip(range(len(vals)), vals)]\n",
    "    return [dict_[a] for a in x], dict_"
   ]
  },
  {
   "cell_type": "code",
   "execution_count": 101,
   "id": "f67347f7",
   "metadata": {},
   "outputs": [],
   "source": [
    "def parse_train_data(df):\n",
    "    df.iloc[:, 0], obs_dict = rename_values(df.iloc[:, 0])\n",
    "    df.iloc[:, 1], items_dict = rename_values(df.iloc[:, 1])\n",
    "    df.iloc[:, 2], ratings_dict = rename_values(df.iloc[:, 2])\n",
    "    \n",
    "    return df, obs_dict, items_dict, ratings_dict"
   ]
  },
  {
   "cell_type": "code",
   "execution_count": 102,
   "id": "e25aed64",
   "metadata": {},
   "outputs": [],
   "source": [
    "aa, obs_dict, items_dict, ratings_dict = parse_train_data(aa)"
   ]
  },
  {
   "cell_type": "code",
   "execution_count": 109,
   "id": "ede93e5f",
   "metadata": {},
   "outputs": [],
   "source": [
    "def parse_test_data(df, obs_dict, items_dict, ratings_dict):\n",
    "    df.iloc[:, 0] = [obs_dict[a] for a in df.iloc[:, 0]]\n",
    "    df.iloc[:, 1] = [items_dict[a] for a in df.iloc[:, 1]]\n",
    "    df.iloc[:, 2] = [ratings_dict[a] for a in df.iloc[:, 2]]\n",
    "    \n",
    "    return df"
   ]
  },
  {
   "cell_type": "code",
   "execution_count": 111,
   "id": "aded0ce5",
   "metadata": {},
   "outputs": [],
   "source": [
    "bb = parse_test_data(bb, obs_dict, items_dict, ratings_dict)"
   ]
  },
  {
   "cell_type": "code",
   "execution_count": 112,
   "id": "e6814c39",
   "metadata": {},
   "outputs": [
    {
     "data": {
      "text/html": [
       "<div>\n",
       "<style scoped>\n",
       "    .dataframe tbody tr th:only-of-type {\n",
       "        vertical-align: middle;\n",
       "    }\n",
       "\n",
       "    .dataframe tbody tr th {\n",
       "        vertical-align: top;\n",
       "    }\n",
       "\n",
       "    .dataframe thead th {\n",
       "        text-align: right;\n",
       "    }\n",
       "</style>\n",
       "<table border=\"1\" class=\"dataframe\">\n",
       "  <thead>\n",
       "    <tr style=\"text-align: right;\">\n",
       "      <th></th>\n",
       "      <th>0</th>\n",
       "      <th>1</th>\n",
       "      <th>2</th>\n",
       "    </tr>\n",
       "  </thead>\n",
       "  <tbody>\n",
       "    <tr>\n",
       "      <th>0</th>\n",
       "      <td>0</td>\n",
       "      <td>7</td>\n",
       "      <td>2</td>\n",
       "    </tr>\n",
       "    <tr>\n",
       "      <th>1</th>\n",
       "      <td>1</td>\n",
       "      <td>2</td>\n",
       "      <td>4</td>\n",
       "    </tr>\n",
       "    <tr>\n",
       "      <th>2</th>\n",
       "      <td>2</td>\n",
       "      <td>0</td>\n",
       "      <td>1</td>\n",
       "    </tr>\n",
       "    <tr>\n",
       "      <th>3</th>\n",
       "      <td>3</td>\n",
       "      <td>7</td>\n",
       "      <td>2</td>\n",
       "    </tr>\n",
       "    <tr>\n",
       "      <th>4</th>\n",
       "      <td>4</td>\n",
       "      <td>1</td>\n",
       "      <td>1</td>\n",
       "    </tr>\n",
       "    <tr>\n",
       "      <th>...</th>\n",
       "      <td>...</td>\n",
       "      <td>...</td>\n",
       "      <td>...</td>\n",
       "    </tr>\n",
       "    <tr>\n",
       "      <th>4698</th>\n",
       "      <td>4698</td>\n",
       "      <td>6</td>\n",
       "      <td>0</td>\n",
       "    </tr>\n",
       "    <tr>\n",
       "      <th>4699</th>\n",
       "      <td>4699</td>\n",
       "      <td>2</td>\n",
       "      <td>0</td>\n",
       "    </tr>\n",
       "    <tr>\n",
       "      <th>4700</th>\n",
       "      <td>4700</td>\n",
       "      <td>6</td>\n",
       "      <td>1</td>\n",
       "    </tr>\n",
       "    <tr>\n",
       "      <th>4701</th>\n",
       "      <td>4701</td>\n",
       "      <td>5</td>\n",
       "      <td>4</td>\n",
       "    </tr>\n",
       "    <tr>\n",
       "      <th>4702</th>\n",
       "      <td>4702</td>\n",
       "      <td>3</td>\n",
       "      <td>1</td>\n",
       "    </tr>\n",
       "  </tbody>\n",
       "</table>\n",
       "<p>4703 rows × 3 columns</p>\n",
       "</div>"
      ],
      "text/plain": [
       "         0  1  2\n",
       "0        0  7  2\n",
       "1        1  2  4\n",
       "2        2  0  1\n",
       "3        3  7  2\n",
       "4        4  1  1\n",
       "...    ... .. ..\n",
       "4698  4698  6  0\n",
       "4699  4699  2  0\n",
       "4700  4700  6  1\n",
       "4701  4701  5  4\n",
       "4702  4702  3  1\n",
       "\n",
       "[4703 rows x 3 columns]"
      ]
     },
     "execution_count": 112,
     "metadata": {},
     "output_type": "execute_result"
    }
   ],
   "source": [
    "bb"
   ]
  },
  {
   "cell_type": "code",
   "execution_count": 18,
   "id": "0289d80c",
   "metadata": {},
   "outputs": [
    {
     "data": {
      "text/plain": [
       "4702"
      ]
     },
     "execution_count": 18,
     "metadata": {},
     "output_type": "execute_result"
    }
   ],
   "source": [
    "p"
   ]
  },
  {
   "cell_type": "code",
   "execution_count": 15,
   "id": "df989b5d",
   "metadata": {},
   "outputs": [
    {
     "data": {
      "text/plain": "4832"
     },
     "execution_count": 15,
     "metadata": {},
     "output_type": "execute_result"
    }
   ],
   "source": [
    "len(set(train[:, 0]))"
   ]
  }
 ],
 "metadata": {
  "kernelspec": {
   "name": "python3",
   "language": "python",
   "display_name": "Python 3"
  },
  "language_info": {
   "codemirror_mode": {
    "name": "ipython",
    "version": 3
   },
   "file_extension": ".py",
   "mimetype": "text/x-python",
   "name": "python",
   "nbconvert_exporter": "python",
   "pygments_lexer": "ipython3",
   "version": "3.8.8"
  }
 },
 "nbformat": 4,
 "nbformat_minor": 5
}