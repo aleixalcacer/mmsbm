{
 "cells": [
  {
   "cell_type": "code",
   "execution_count": 1,
   "metadata": {
    "collapsed": true
   },
   "outputs": [],
   "source": [
    "import logging\n",
    "import multiprocessing\n",
    "import os\n",
    "from datetime import datetime\n",
    "\n",
    "import numpy as np\n",
    "import pandas as pd\n",
    "\n",
    "from lib.funcs import (\n",
    "    compute_indicators,\n",
    "    compute_final_stats,\n",
    "    normalize_with_d,\n",
    "    init_random_array,\n",
    "    normalize_with_self,\n",
    "    update_coefs,\n",
    "    compute_likelihood,\n",
    "    compute_prod_dist,\n",
    ")\n",
    "from lib.utils import get_data, check_data"
   ]
  },
  {
   "cell_type": "code",
   "execution_count": 14,
   "metadata": {
    "pycharm": {
     "name": "#%%\n"
    }
   },
   "outputs": [],
   "source": [
    "# Constants\n",
    "train_set = \"train.csv\"\n",
    "test_set = \"test.csv\"\n",
    "sampling = 1\n",
    "# Number of groups of users\n",
    "k = 3\n",
    "# Number of groups of items\n",
    "l = 6\n",
    "# Iterations\n",
    "# To plateau the coefficients the minimum is 600\n",
    "iterations = 200\n",
    "seed = 1"
   ]
  },
  {
   "cell_type": "code",
   "execution_count": 15,
   "metadata": {
    "pycharm": {
     "name": "#%%\n"
    }
   },
   "outputs": [
    {
     "name": "stderr",
     "output_type": "stream",
     "text": [
      "INFO:MMSBM:Running 1 runs of 200 iterations.\n"
     ]
    },
    {
     "data": {
      "text/plain": "[]"
     },
     "execution_count": 15,
     "metadata": {},
     "output_type": "execute_result"
    }
   ],
   "source": [
    "start_time = datetime.now()\n",
    "\n",
    "# Initiate the random state\n",
    "rng = np.random.default_rng(seed)\n",
    "# Create seeds for each process\n",
    "seeds = list(rng.integers(low=1, high=10000, size=sampling))\n",
    "\n",
    "logger = logging.getLogger(\"MMSBM\")\n",
    "logging.basicConfig(level=logging.INFO)\n",
    "logger.info(f\"Running {sampling} runs of {iterations} iterations.\")\n",
    "\n",
    "# Get data\n",
    "data_dir = os.path.join(os.getcwd(), \"data\")\n",
    "train = get_data(os.path.join(data_dir, train_set))\n",
    "check_data(train)\n",
    "test = get_data(os.path.join(data_dir, test_set))\n",
    "check_data(test)\n",
    "\n",
    "# Create a few dicts with the relationships\n",
    "# TODO: think whether initialization with 0 is needed\n",
    "d0 = {0: []}\n",
    "d1 = {0: []}\n",
    "[d0.update({a: list(train[train[:, 0] == a, 1])}) for a in set(train[:, 0])]\n",
    "[d1.update({a: list(train[train[:, 1] == a, 0])}) for a in set(train[:, 1])]\n",
    "ratings = sorted(set(train[:, 2]))\n",
    "r = len(ratings)\n",
    "p = int(train[:, 0].max())\n",
    "m = int(train[:, 1].max())\n",
    "\n",
    "# If, for some reason, there are missing links, we need to fill them:\n",
    "[d0.update({a: []}) for a in set(range(p + 1)).difference(set(d0.keys()))]\n",
    "[d1.update({a: []}) for a in set(range(m + 1)).difference(set(d1.keys()))]"
   ]
  },
  {
   "cell_type": "code",
   "execution_count": 16,
   "metadata": {
    "pycharm": {
     "name": "#%%\n"
    }
   },
   "outputs": [
    {
     "name": "stderr",
     "output_type": "stream",
     "text": [
      "100%|██████████| 10/10 [00:03<00:00,  3.04it/s]\n"
     ]
    }
   ],
   "source": []
  },
  {
   "cell_type": "code",
   "execution_count": 17,
   "metadata": {
    "pycharm": {
     "name": "#%%\n"
    }
   },
   "outputs": [
    {
     "data": {
      "text/plain": "-48338.77380245385"
     },
     "execution_count": 17,
     "metadata": {},
     "output_type": "execute_result"
    }
   ],
   "source": [
    "aa[\"likelihood\"].sum()"
   ]
  },
  {
   "cell_type": "code",
   "execution_count": 18,
   "metadata": {
    "pycharm": {
     "name": "#%%\n"
    }
   },
   "outputs": [],
   "source": [
    "rat = compute_indicators(aa[\"rat\"], test, ratings)"
   ]
  },
  {
   "cell_type": "code",
   "execution_count": 19,
   "metadata": {},
   "outputs": [],
   "source": [
    "accuracy, mae, s2, s2pond = compute_final_stats(rat)"
   ]
  },
  {
   "cell_type": "code",
   "execution_count": 20,
   "metadata": {},
   "outputs": [
    {
     "data": {
      "text/plain": "0.7463486992240986"
     },
     "execution_count": 20,
     "metadata": {},
     "output_type": "execute_result"
    }
   ],
   "source": [
    "mae"
   ]
  },
  {
   "cell_type": "code",
   "execution_count": 10,
   "metadata": {},
   "outputs": [],
   "source": [
    "a = pd.read_csv(\"data/train.csv\", header=None)\n",
    "b = pd.read_csv(\"data/test.csv\", header=None)"
   ]
  },
  {
   "cell_type": "code",
   "execution_count": 11,
   "outputs": [],
   "source": [
    "b.loc[:, 0] += a.loc[:, 0].max() + 1\n",
    "c = a.append(b)"
   ],
   "metadata": {
    "collapsed": false,
    "pycharm": {
     "name": "#%%\n"
    }
   }
  },
  {
   "cell_type": "code",
   "execution_count": 12,
   "outputs": [],
   "source": [
    "c.to_csv(\"data/all.csv\")\n"
   ],
   "metadata": {
    "collapsed": false,
    "pycharm": {
     "name": "#%%\n"
    }
   }
  },
  {
   "cell_type": "code",
   "execution_count": null,
   "outputs": [],
   "source": [],
   "metadata": {
    "collapsed": false,
    "pycharm": {
     "name": "#%%\n"
    }
   }
  }
 ],
 "metadata": {
  "kernelspec": {
   "name": "pycharm-34d27a16",
   "language": "python",
   "display_name": "PyCharm (bananes)"
  },
  "language_info": {
   "codemirror_mode": {
    "name": "ipython",
    "version": 3
   },
   "file_extension": ".py",
   "mimetype": "text/x-python",
   "name": "python",
   "nbconvert_exporter": "python",
   "pygments_lexer": "ipython3",
   "version": "3.9.5"
  }
 },
 "nbformat": 4,
 "nbformat_minor": 1
}